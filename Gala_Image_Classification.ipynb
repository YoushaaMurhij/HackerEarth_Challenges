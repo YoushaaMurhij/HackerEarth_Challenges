{
  "nbformat": 4,
  "nbformat_minor": 0,
  "metadata": {
    "kernelspec": {
      "name": "python3",
      "display_name": "Python 3"
    },
    "language_info": {
      "codemirror_mode": {
        "name": "ipython",
        "version": 3
      },
      "file_extension": ".py",
      "mimetype": "text/x-python",
      "name": "python",
      "nbconvert_exporter": "python",
      "pygments_lexer": "ipython3",
      "version": "3.6.6"
    },
    "colab": {
      "name": "Gala_Image_Classification.ipynb",
      "provenance": [],
      "collapsed_sections": [],
      "machine_shape": "hm",
      "include_colab_link": true
    },
    "accelerator": "GPU"
  },
  "cells": [
    {
      "cell_type": "markdown",
      "metadata": {
        "id": "view-in-github",
        "colab_type": "text"
      },
      "source": [
        "<a href=\"https://colab.research.google.com/github/YoushaaMurhij/HackerEarth_Challenges/blob/master/Gala_Image_Classification.ipynb\" target=\"_parent\"><img src=\"https://colab.research.google.com/assets/colab-badge.svg\" alt=\"Open In Colab\"/></a>"
      ]
    },
    {
      "cell_type": "code",
      "metadata": {
        "id": "Z9c41YJw4zCJ",
        "colab_type": "code",
        "colab": {}
      },
      "source": [
        "!unzip -q Gala.zip"
      ],
      "execution_count": 0,
      "outputs": []
    },
    {
      "cell_type": "code",
      "metadata": {
        "_cell_guid": "79c7e3d0-c299-4dcb-8224-4455121ee9b0",
        "_uuid": "d629ff2d2480ee46fbb7e2d37f6b5fab8052498a",
        "id": "3EU_dHl84nAm",
        "colab_type": "code",
        "colab": {}
      },
      "source": [
        "import pandas as pd\n",
        "import numpy as np\n",
        "import keras\n",
        "from keras.applications.xception import Xception\n",
        "from keras.applications.vgg19 import VGG19\n",
        "from keras.applications.mobilenet import MobileNet\n",
        "from keras.applications.mobilenet_v2 import MobileNetV2\n",
        "from keras.preprocessing import image\n",
        "from keras.applications.vgg16 import preprocess_input, decode_predictions\n",
        "from keras.layers import Dense, Activation, Flatten, merge,Input\n",
        "from keras.models import Model, Sequential\n",
        "from keras.utils import np_utils\n",
        "from keras import backend as K\n",
        "from keras.layers import *\n",
        "from keras.callbacks import *\n",
        "import os\n",
        "import glob\n",
        "import tensorflow as tf"
      ],
      "execution_count": 0,
      "outputs": []
    },
    {
      "cell_type": "code",
      "metadata": {
        "id": "OgEqJToe0FQf",
        "colab_type": "code",
        "outputId": "2d074afe-9fc0-4158-f5b5-490b385218ef",
        "colab": {
          "base_uri": "https://localhost:8080/",
          "height": 87
        }
      },
      "source": [
        "import tensorflow.compat.v1 as tf\n",
        "tf.disable_v2_behavior()"
      ],
      "execution_count": 3,
      "outputs": [
        {
          "output_type": "stream",
          "text": [
            "WARNING:tensorflow:From /usr/local/lib/python3.6/dist-packages/tensorflow_core/python/compat/v2_compat.py:68: disable_resource_variables (from tensorflow.python.ops.variable_scope) is deprecated and will be removed in a future version.\n",
            "Instructions for updating:\n",
            "non-resource variables are not supported in the long term\n"
          ],
          "name": "stdout"
        }
      ]
    },
    {
      "cell_type": "code",
      "metadata": {
        "id": "BWtrF9Id4nAt",
        "colab_type": "code",
        "outputId": "96e7b3d0-9344-4d6f-c17e-d2aec7a6c4b3",
        "colab": {
          "base_uri": "https://localhost:8080/",
          "height": 134
        }
      },
      "source": [
        "train = pd.read_csv('dataset/train.csv')\n",
        "test  = pd.read_csv('dataset/test.csv')\n",
        "s = train['Class'].tolist()\n",
        "from collections import Counter\n",
        "print(Counter(s).keys()) # equals to list(set(words))\n",
        "print(Counter(s).values()) # counts the elements' frequency\n",
        "print(len(Counter(s).keys()))\n",
        "\n",
        "tg_dict = {\"Food\":0, \"misc\": 1, \"Attire\": 2,\"Decorationandsignage\":3}\n",
        "def label_encode(x):\n",
        "    return tg_dict[x]\n",
        "\n",
        "train['Class'] = train['Class'].apply(label_encode)\n",
        "\n",
        "images = train['Image'].tolist()\n",
        "classes = train['Class'].tolist()\n",
        "\n",
        "features=[]\n",
        "labels=[]\n",
        "path = 'dataset/Train Images/'\n",
        "for i in range(0,5983):\n",
        "  if os.path.isfile(path+str(images[i])):\n",
        "    pic = image.load_img(path+str(images[i]), target_size=(224, 224))\n",
        "    #print(path+str(images[i]))\n",
        "    x = image.img_to_array(pic)\n",
        "    x = np.expand_dims(x, axis=0)\n",
        "    x = preprocess_input(x)\n",
        "    features.append(x)\n",
        "    labels.append(classes[i])\n",
        "  else:\n",
        "    print(path+str(images[i]), 'not present')\n",
        "    \n",
        "npfeatures = np.array(features)\n",
        "print(npfeatures.shape)\n",
        "img_dt = np.rollaxis(npfeatures, 1, 0)\n",
        "print(img_dt.shape)\n",
        "X = img_dt[0]\n",
        "print(X.shape)\n",
        "labels = np.array(labels)\n",
        "Y = np_utils.to_categorical(labels,4)\n",
        "print(Y.shape)\n",
        "def recall_m(y_true, y_pred):\n",
        "        true_positives = K.sum(K.round(K.clip(y_true * y_pred, 0, 1)))\n",
        "        possible_positives = K.sum(K.round(K.clip(y_true, 0, 1)))\n",
        "        recall = true_positives / (possible_positives + K.epsilon())\n",
        "        return recall\n",
        "def precision_m(y_true, y_pred):\n",
        "        true_positives = K.sum(K.round(K.clip(y_true * y_pred, 0, 1)))\n",
        "        predicted_positives = K.sum(K.round(K.clip(y_pred, 0, 1)))\n",
        "        precision = true_positives / (predicted_positives + K.epsilon())\n",
        "        return precision\n",
        "def f1_m(y_true, y_pred):\n",
        "    precision = precision_m(y_true, y_pred)\n",
        "    recall = recall_m(y_true, y_pred)\n",
        "    return 2*((precision*recall)/(precision+recall+K.epsilon()))\n",
        "from sklearn.model_selection import train_test_split\n",
        "from keras.preprocessing.image import ImageDataGenerator"
      ],
      "execution_count": 4,
      "outputs": [
        {
          "output_type": "stream",
          "text": [
            "dict_keys(['Food', 'misc', 'Attire', 'Decorationandsignage'])\n",
            "dict_values([2278, 1271, 1691, 743])\n",
            "4\n",
            "(5983, 1, 224, 224, 3)\n",
            "(1, 5983, 224, 224, 3)\n",
            "(5983, 224, 224, 3)\n",
            "(5983, 4)\n"
          ],
          "name": "stdout"
        }
      ]
    },
    {
      "cell_type": "code",
      "metadata": {
        "id": "pyIAhiJ7WiPC",
        "colab_type": "code",
        "colab": {}
      },
      "source": [
        "#pip install efficientnet"
      ],
      "execution_count": 0,
      "outputs": []
    },
    {
      "cell_type": "code",
      "metadata": {
        "id": "liCcSW7a4nAw",
        "colab_type": "code",
        "outputId": "bbc5196f-1364-41df-d3bc-f26143ce1c97",
        "colab": {
          "base_uri": "https://localhost:8080/",
          "height": 101
        }
      },
      "source": [
        "#import efficientnet.tfkeras as efn\n",
        "IMAGE_SIZE=[224,224]\n",
        "#pretrained_model = MobileNet(weights='imagenet', include_top=False ,input_shape=[*IMAGE_SIZE, 3])\n",
        "pretrained_model = Xception(include_top=False, weights='imagenet',input_shape=[*IMAGE_SIZE, 3])\n",
        "\n",
        "#pretrained_model = efn.EfficientNetB7(input_shape=(224, 224, 3),weights='imagenet',include_top=False)\n",
        "#pretrained_model = MobileNetV2(input_shape=[*IMAGE_SIZE, 3], alpha=1.0, include_top=False, weights='imagenet',pooling=None, classes=4)\n",
        "#keras.applications.nasnet.NASNetMobile(input_shape=None, include_top=True, weights='imagenet', input_tensor=None, pooling=None, classes=1000)\n",
        "pretrained_model.trainable = True # tramsfer learning    \n",
        "model = Sequential([\n",
        "        pretrained_model,\n",
        "        GlobalAveragePooling2D(),\n",
        "        Dense(220, activation='relu'),\n",
        "        Dense(220, activation='relu'),\n",
        "        Dense(4, activation='softmax')\n",
        "    ])\n",
        "es = keras.callbacks.EarlyStopping(monitor='val_loss', min_delta=0, patience=10, verbose=1, mode='auto', baseline=None, restore_best_weights=False)\n",
        "model.compile(optimizer = 'adamax', loss='categorical_crossentropy', metrics=[f1_m])  \n",
        "model.load_weights(\"model_Xception.h5\")\n",
        "model.fit(X, Y, batch_size=32, epochs=15, validation_split=.1,callbacks=[es])"
      ],
      "execution_count": 0,
      "outputs": [
        {
          "output_type": "stream",
          "text": [
            "Train on 5384 samples, validate on 599 samples\n",
            "Epoch 1/15\n",
            "5384/5384 [==============================] - 86s 16ms/step - loss: 0.2210 - f1_m: 0.9350 - val_loss: 0.9868 - val_f1_m: 0.7540\n",
            "Epoch 2/15\n",
            "5088/5384 [===========================>..] - ETA: 3s - loss: 0.0764 - f1_m: 0.9744"
          ],
          "name": "stdout"
        }
      ]
    },
    {
      "cell_type": "code",
      "metadata": {
        "id": "juyOtvnUAglp",
        "colab_type": "code",
        "colab": {}
      },
      "source": [
        "\n",
        "model.save_weights(\"model_Xception.h5\")\n",
        "print(\"Saved model to disk\")"
      ],
      "execution_count": 0,
      "outputs": []
    },
    {
      "cell_type": "code",
      "metadata": {
        "id": "9CbDkSWTUez5",
        "colab_type": "code",
        "colab": {}
      },
      "source": [
        "''''.\n",
        "image_input = Input(shape = (224,224,3))\n",
        "model = MobileNet(input_tensor = image_input, weights = 'imagenet')\n",
        "print(model.summary())\n",
        "last_layer = model.get_layer('fc2').output\n",
        "x = Dense(220,activation='relu')(last_layer)\n",
        "x = Dense(220,activation='relu')(x)\n",
        "out = Dense(4, activation='softmax')(x)\n",
        "classifier = Model(image_input,out)\n",
        "print(classifier.summary())\n",
        "for Layer in classifier.layers[:-3]:\n",
        "    Layer.trainable = False\n",
        "es = keras.callbacks.EarlyStopping(monitor='val_loss', min_delta=0, patience=3, verbose=0, mode='auto', baseline=None, restore_best_weights=False)\n",
        "\n",
        "classifier.compile(optimizer = 'adamax', loss='categorical_crossentropy', metrics=[f1_m])    \n",
        "classifier.fit(X, Y, batch_size=32, epochs=10, validation_split=.1,callbacks=[es])\n",
        "'''"
      ],
      "execution_count": 0,
      "outputs": []
    },
    {
      "cell_type": "code",
      "metadata": {
        "id": "Vkv53PmA4nA2",
        "colab_type": "code",
        "colab": {}
      },
      "source": [
        "images_test = test['Image'].tolist()\n",
        "test_features=[]\n",
        "path_test = 'dataset/Test Images/'\n",
        "for i in range(0,3219):\n",
        "  if os.path.isfile(path_test+str(images_test[i])):\n",
        "    pic = image.load_img(path_test+str(images_test[i]), target_size=(224, 224))\n",
        "    #print(path+str(images[i]))\n",
        "    x = image.img_to_array(pic)\n",
        "    x = np.expand_dims(x, axis=0)\n",
        "    x = preprocess_input(x)\n",
        "    test_features.append(x)\n",
        "  else:\n",
        "    print(path_test+str(images[i]), 'not present')"
      ],
      "execution_count": 0,
      "outputs": []
    },
    {
      "cell_type": "code",
      "metadata": {
        "id": "LOgEgzC44nA5",
        "colab_type": "code",
        "colab": {}
      },
      "source": [
        "test_features = np.array(test_features)\n",
        "print(test_features.shape)\n",
        "test_features = np.rollaxis(test_features, 1, 0)\n",
        "print(test_features.shape)\n",
        "X_test = test_features[0]\n",
        "print(X_test.shape)"
      ],
      "execution_count": 0,
      "outputs": []
    },
    {
      "cell_type": "code",
      "metadata": {
        "id": "9hjI2IkL4nBA",
        "colab_type": "code",
        "colab": {}
      },
      "source": [
        "preds = model.predict(X_test)"
      ],
      "execution_count": 0,
      "outputs": []
    },
    {
      "cell_type": "code",
      "metadata": {
        "id": "F34Bt8kv4nBD",
        "colab_type": "code",
        "colab": {}
      },
      "source": [
        "predictions=[]\n",
        "for i in preds:\n",
        "    predictions.append(np.argmax(i))"
      ],
      "execution_count": 0,
      "outputs": []
    },
    {
      "cell_type": "code",
      "metadata": {
        "id": "tJ8BCkiQ4nBI",
        "colab_type": "code",
        "colab": {}
      },
      "source": [
        "test['Class'] = predictions"
      ],
      "execution_count": 0,
      "outputs": []
    },
    {
      "cell_type": "code",
      "metadata": {
        "id": "RfVMPJGf4nBK",
        "colab_type": "code",
        "colab": {}
      },
      "source": [
        "gt_dict = dict((v,k) for k,v in tg_dict.items())\n",
        "\n",
        "def inverse_encode(x):\n",
        "    return gt_dict[x]\n",
        "\n",
        "test['Class'] = test['Class'].apply(inverse_encode)"
      ],
      "execution_count": 0,
      "outputs": []
    },
    {
      "cell_type": "code",
      "metadata": {
        "id": "-zM34qyF4nBP",
        "colab_type": "code",
        "colab": {}
      },
      "source": [
        "test.head(4)"
      ],
      "execution_count": 0,
      "outputs": []
    },
    {
      "cell_type": "code",
      "metadata": {
        "id": "dm08IumE4nBT",
        "colab_type": "code",
        "colab": {}
      },
      "source": [
        "test.to_csv('Submission.csv',header=True,index = None)"
      ],
      "execution_count": 0,
      "outputs": []
    },
    {
      "cell_type": "code",
      "metadata": {
        "id": "qsx4B39z4nBX",
        "colab_type": "code",
        "colab": {}
      },
      "source": [
        ""
      ],
      "execution_count": 0,
      "outputs": []
    }
  ]
}