{
  "nbformat": 4,
  "nbformat_minor": 0,
  "metadata": {
    "kernelspec": {
      "name": "python3",
      "display_name": "Python 3"
    },
    "language_info": {
      "codemirror_mode": {
        "name": "ipython",
        "version": 3
      },
      "file_extension": ".py",
      "mimetype": "text/x-python",
      "name": "python",
      "nbconvert_exporter": "python",
      "pygments_lexer": "ipython3",
      "version": "3.6.6"
    },
    "colab": {
      "name": "Copy of Gala_Image_Classification.ipynb",
      "provenance": [],
      "collapsed_sections": [],
      "toc_visible": true,
      "machine_shape": "hm",
      "include_colab_link": true
    },
    "accelerator": "GPU"
  },
  "cells": [
    {
      "cell_type": "markdown",
      "metadata": {
        "id": "view-in-github",
        "colab_type": "text"
      },
      "source": [
        "<a href=\"https://colab.research.google.com/github/YoushaaMurhij/HackerEarth_Challenges/blob/master/Gala_Image_Classification.ipynb\" target=\"_parent\"><img src=\"https://colab.research.google.com/assets/colab-badge.svg\" alt=\"Open In Colab\"/></a>"
      ]
    },
    {
      "cell_type": "code",
      "metadata": {
        "id": "Z9c41YJw4zCJ",
        "colab_type": "code",
        "colab": {}
      },
      "source": [
        "!unzip -q Gala.zip"
      ],
      "execution_count": 0,
      "outputs": []
    },
    {
      "cell_type": "code",
      "metadata": {
        "_cell_guid": "79c7e3d0-c299-4dcb-8224-4455121ee9b0",
        "_uuid": "d629ff2d2480ee46fbb7e2d37f6b5fab8052498a",
        "id": "3EU_dHl84nAm",
        "colab_type": "code",
        "outputId": "5ea703c0-fb0a-4b71-bd7b-c3466343b7a0",
        "colab": {
          "base_uri": "https://localhost:8080/",
          "height": 150
        }
      },
      "source": [
        "import pandas as pd\n",
        "import numpy as np\n",
        "import keras\n",
        "from keras.applications.vgg19 import VGG19\n",
        "from keras.applications.mobilenet import MobileNet\n",
        "from keras.applications.mobilenet_v2 import MobileNetV2\n",
        "from keras.applications.nasnet import NASNetMobile\n",
        "from keras.preprocessing import image\n",
        "from keras.applications.vgg16 import preprocess_input, decode_predictions\n",
        "from keras.layers import Dense, Activation, Flatten, merge,Input\n",
        "from keras.models import Model, Sequential\n",
        "from keras.utils import np_utils\n",
        "from keras import backend as K\n",
        "from keras.layers import *\n",
        "from keras.callbacks import *\n",
        "import os\n",
        "import glob\n",
        "import tensorflow.compat.v1 as tf\n",
        "tf.disable_v2_behavior()"
      ],
      "execution_count": 2,
      "outputs": [
        {
          "output_type": "stream",
          "text": [
            "Using TensorFlow backend.\n"
          ],
          "name": "stderr"
        },
        {
          "output_type": "display_data",
          "data": {
            "text/html": [
              "<p style=\"color: red;\">\n",
              "The default version of TensorFlow in Colab will soon switch to TensorFlow 2.x.<br>\n",
              "We recommend you <a href=\"https://www.tensorflow.org/guide/migrate\" target=\"_blank\">upgrade</a> now \n",
              "or ensure your notebook will continue to use TensorFlow 1.x via the <code>%tensorflow_version 1.x</code> magic:\n",
              "<a href=\"https://colab.research.google.com/notebooks/tensorflow_version.ipynb\" target=\"_blank\">more info</a>.</p>\n"
            ],
            "text/plain": [
              "<IPython.core.display.HTML object>"
            ]
          },
          "metadata": {
            "tags": []
          }
        },
        {
          "output_type": "stream",
          "text": [
            "WARNING:tensorflow:From /usr/local/lib/python3.6/dist-packages/tensorflow_core/python/compat/v2_compat.py:68: disable_resource_variables (from tensorflow.python.ops.variable_scope) is deprecated and will be removed in a future version.\n",
            "Instructions for updating:\n",
            "non-resource variables are not supported in the long term\n"
          ],
          "name": "stdout"
        }
      ]
    },
    {
      "cell_type": "code",
      "metadata": {
        "id": "BWtrF9Id4nAt",
        "colab_type": "code",
        "outputId": "cf784cb7-1cee-4a35-c8bf-838439b541fb",
        "colab": {
          "base_uri": "https://localhost:8080/",
          "height": 134
        }
      },
      "source": [
        "train = pd.read_csv('dataset/train.csv')\n",
        "test  = pd.read_csv('dataset/test.csv')\n",
        "\n",
        "s = train['Class'].tolist()\n",
        "\n",
        "from collections import Counter\n",
        "print(Counter(s).keys()) # equals to list(set(words))\n",
        "print(Counter(s).values()) # counts the elements' frequency\n",
        "print(len(Counter(s).keys()))\n",
        "\n",
        "tg_dict = {\"Food\":0, \"misc\": 1, \"Attire\": 2,\"Decorationandsignage\":3}\n",
        "def label_encode(x):\n",
        "    return tg_dict[x]\n",
        "\n",
        "train['Class'] = train['Class'].apply(label_encode)\n",
        "\n",
        "images = train['Image'].tolist()\n",
        "classes = train['Class'].tolist()\n",
        "\n",
        "features=[]\n",
        "labels=[]\n",
        "path = 'dataset/Train Images/'\n",
        "for i in range(0,5983):\n",
        "  if os.path.isfile(path+str(images[i])):\n",
        "    pic = image.load_img(path+str(images[i]), target_size=(224, 224))\n",
        "    #print(path+str(images[i]))\n",
        "    x = image.img_to_array(pic)\n",
        "    x = np.expand_dims(x, axis=0)\n",
        "    x = preprocess_input(x)\n",
        "    features.append(x)\n",
        "    labels.append(classes[i])\n",
        "  else:\n",
        "    print(path+str(images[i]), 'not present')\n",
        "   \n",
        "npfeatures = np.array(features)\n",
        "print(npfeatures.shape)\n",
        "img_dt = np.rollaxis(npfeatures, 1, 0)\n",
        "print(img_dt.shape)\n",
        "X = img_dt[0]\n",
        "print(X.shape)\n",
        "labels = np.array(labels)\n",
        "Y = np_utils.to_categorical(labels,4)\n",
        "print(Y.shape)\n",
        "def recall_m(y_true, y_pred):\n",
        "        true_positives = K.sum(K.round(K.clip(y_true * y_pred, 0, 1)))\n",
        "        possible_positives = K.sum(K.round(K.clip(y_true, 0, 1)))\n",
        "        recall = true_positives / (possible_positives + K.epsilon())\n",
        "        return recall\n",
        "\n",
        "def precision_m(y_true, y_pred):\n",
        "        true_positives = K.sum(K.round(K.clip(y_true * y_pred, 0, 1)))\n",
        "        predicted_positives = K.sum(K.round(K.clip(y_pred, 0, 1)))\n",
        "        precision = true_positives / (predicted_positives + K.epsilon())\n",
        "        return precision\n",
        "def f1_m(y_true, y_pred):\n",
        "    precision = precision_m(y_true, y_pred)\n",
        "    recall = recall_m(y_true, y_pred)\n",
        "    return 2*((precision*recall)/(precision+recall+K.epsilon()))\n",
        "from sklearn.model_selection import train_test_split\n",
        "from keras.preprocessing.image import ImageDataGenerator\n"
      ],
      "execution_count": 3,
      "outputs": [
        {
          "output_type": "stream",
          "text": [
            "dict_keys(['Food', 'misc', 'Attire', 'Decorationandsignage'])\n",
            "dict_values([2278, 1271, 1691, 743])\n",
            "4\n",
            "(5983, 1, 224, 224, 3)\n",
            "(1, 5983, 224, 224, 3)\n",
            "(5983, 224, 224, 3)\n",
            "(5983, 4)\n"
          ],
          "name": "stdout"
        }
      ]
    },
    {
      "cell_type": "code",
      "metadata": {
        "id": "pyIAhiJ7WiPC",
        "colab_type": "code",
        "colab": {}
      },
      "source": [
        "#pip install efficientnet"
      ],
      "execution_count": 0,
      "outputs": []
    },
    {
      "cell_type": "code",
      "metadata": {
        "id": "liCcSW7a4nAw",
        "colab_type": "code",
        "outputId": "6783f60e-6727-4103-db35-1f3894258f3b",
        "colab": {
          "base_uri": "https://localhost:8080/",
          "height": 574
        }
      },
      "source": [
        "#import efficientnet.tfkeras as efn\n",
        "IMAGE_SIZE=[224,224]\n",
        "#pretrained_model = MobileNet(weights='imagenet', include_top=False ,input_shape=[*IMAGE_SIZE, 3])\n",
        "#pretrained_model = efn.EfficientNetB7(input_shape=(224, 224, 3),weights='imagenet',include_top=False)\n",
        "#pretrained_model = MobileNetV2(input_shape=[*IMAGE_SIZE, 3], alpha=1.0, include_top=False, weights='imagenet',pooling=None, classes=4)\n",
        "pretrained_model = NASNetMobile(input_shape=None, include_top=False, weights='imagenet')\n",
        "\n",
        "pretrained_model.trainable = True # tramsfer learning    \n",
        "model = Sequential([\n",
        "        pretrained_model,\n",
        "        GlobalAveragePooling2D(),\n",
        "        Dense(220, activation='relu'),\n",
        "        Dense(220, activation='relu'),\n",
        "        Dense(4, activation='softmax')\n",
        "    ])\n",
        "es = keras.callbacks.EarlyStopping(monitor='val_loss', min_delta=0, patience=10, verbose=1, mode='auto', baseline=None, restore_best_weights=False)\n",
        "model.compile(optimizer = 'adamax', loss='categorical_crossentropy', metrics=[f1_m])    \n",
        "model.load_weights(\"model_NASNet.h5\")\n",
        "model.fit(X, Y, batch_size=32, epochs=15, validation_split=.1,callbacks=[es])"
      ],
      "execution_count": 7,
      "outputs": [
        {
          "output_type": "stream",
          "text": [
            "WARNING:tensorflow:From /usr/local/lib/python3.6/dist-packages/tensorflow_core/python/ops/math_grad.py:1424: where (from tensorflow.python.ops.array_ops) is deprecated and will be removed in a future version.\n",
            "Instructions for updating:\n",
            "Use tf.where in 2.0, which has the same broadcast rule as np.where\n",
            "WARNING:tensorflow:From /usr/local/lib/python3.6/dist-packages/keras/backend/tensorflow_backend.py:1033: The name tf.assign_add is deprecated. Please use tf.compat.v1.assign_add instead.\n",
            "\n",
            "WARNING:tensorflow:From /usr/local/lib/python3.6/dist-packages/keras/backend/tensorflow_backend.py:1020: The name tf.assign is deprecated. Please use tf.compat.v1.assign instead.\n",
            "\n",
            "Train on 5384 samples, validate on 599 samples\n",
            "Epoch 1/15\n",
            "5384/5384 [==============================] - 138s 26ms/step - loss: 0.0881 - f1_m: 0.9763 - val_loss: 1.4543 - val_f1_m: 0.7653\n",
            "Epoch 2/15\n",
            "5384/5384 [==============================] - 67s 12ms/step - loss: 0.0202 - f1_m: 0.9895 - val_loss: 1.5593 - val_f1_m: 0.7784\n",
            "Epoch 3/15\n",
            "5384/5384 [==============================] - 67s 12ms/step - loss: 0.0194 - f1_m: 0.9920 - val_loss: 1.7874 - val_f1_m: 0.7835\n",
            "Epoch 4/15\n",
            "5384/5384 [==============================] - 67s 12ms/step - loss: 0.0218 - f1_m: 0.9902 - val_loss: 1.9662 - val_f1_m: 0.7224\n",
            "Epoch 5/15\n",
            "5384/5384 [==============================] - 68s 13ms/step - loss: 0.0122 - f1_m: 0.9940 - val_loss: 1.4890 - val_f1_m: 0.7865\n",
            "Epoch 6/15\n",
            "5384/5384 [==============================] - 68s 13ms/step - loss: 0.0206 - f1_m: 0.9918 - val_loss: 1.6210 - val_f1_m: 0.7836\n",
            "Epoch 7/15\n",
            "5384/5384 [==============================] - 68s 13ms/step - loss: 0.0182 - f1_m: 0.9912 - val_loss: 1.6232 - val_f1_m: 0.7638\n",
            "Epoch 8/15\n",
            "5384/5384 [==============================] - 68s 13ms/step - loss: 0.0100 - f1_m: 0.9937 - val_loss: 1.7193 - val_f1_m: 0.7627\n",
            "Epoch 9/15\n",
            "5384/5384 [==============================] - 68s 13ms/step - loss: 0.0106 - f1_m: 0.9939 - val_loss: 1.8989 - val_f1_m: 0.7639\n",
            "Epoch 10/15\n",
            "5384/5384 [==============================] - 68s 13ms/step - loss: 0.0177 - f1_m: 0.9921 - val_loss: 2.3475 - val_f1_m: 0.7192\n",
            "Epoch 11/15\n",
            "5384/5384 [==============================] - 68s 13ms/step - loss: 0.0350 - f1_m: 0.9879 - val_loss: 1.7385 - val_f1_m: 0.7361\n",
            "Epoch 00011: early stopping\n"
          ],
          "name": "stdout"
        },
        {
          "output_type": "execute_result",
          "data": {
            "text/plain": [
              "<keras.callbacks.History at 0x7f03625380b8>"
            ]
          },
          "metadata": {
            "tags": []
          },
          "execution_count": 7
        }
      ]
    },
    {
      "cell_type": "code",
      "metadata": {
        "id": "juyOtvnUAglp",
        "colab_type": "code",
        "outputId": "c7cf4f5b-1f63-4d9d-e694-3c8fc3dd0b66",
        "colab": {
          "base_uri": "https://localhost:8080/",
          "height": 302
        }
      },
      "source": [
        "\n",
        "model.fit(X, Y, batch_size=32, epochs=10, validation_split=.1,callbacks=[es])\n",
        "model.fit(X, Y, batch_size=64, epochs=10, validation_split=.1,callbacks=[es])\n",
        "model.fit(X, Y, batch_size=32, epochs=10, validation_split=.1,callbacks=[es])\n",
        "model.fit(X, Y, batch_size=64, epochs=10, validation_split=.1,callbacks=[es])\n",
        "\n",
        "model.save_weights(\"model_NASNet.h5\")"
      ],
      "execution_count": 0,
      "outputs": [
        {
          "output_type": "stream",
          "text": [
            "Train on 5384 samples, validate on 599 samples\n",
            "Epoch 1/10\n",
            "5384/5384 [==============================] - 68s 13ms/step - loss: 0.0166 - f1_m: 0.9906 - val_loss: 1.8899 - val_f1_m: 0.7431\n",
            "Epoch 2/10\n",
            "5384/5384 [==============================] - 68s 13ms/step - loss: 0.0164 - f1_m: 0.9921 - val_loss: 1.7841 - val_f1_m: 0.7570\n",
            "Epoch 3/10\n",
            "5384/5384 [==============================] - 68s 13ms/step - loss: 0.0129 - f1_m: 0.9925 - val_loss: 1.8013 - val_f1_m: 0.7762\n",
            "Epoch 4/10\n",
            "5384/5384 [==============================] - 67s 13ms/step - loss: 0.0204 - f1_m: 0.9899 - val_loss: 2.5606 - val_f1_m: 0.7079\n",
            "Epoch 5/10\n",
            "5384/5384 [==============================] - 67s 12ms/step - loss: 0.0113 - f1_m: 0.9939 - val_loss: 2.1504 - val_f1_m: 0.7714\n",
            "Epoch 6/10\n",
            "5384/5384 [==============================] - 67s 12ms/step - loss: 0.0198 - f1_m: 0.9920 - val_loss: 2.3778 - val_f1_m: 0.7462\n",
            "Epoch 7/10\n",
            "5384/5384 [==============================] - 67s 12ms/step - loss: 0.0191 - f1_m: 0.9905 - val_loss: 3.2706 - val_f1_m: 0.6788\n",
            "Epoch 8/10\n",
            "4928/5384 [==========================>...] - ETA: 5s - loss: 0.0202 - f1_m: 0.9908"
          ],
          "name": "stdout"
        }
      ]
    },
    {
      "cell_type": "code",
      "metadata": {
        "id": "M5AfJQW_U55I",
        "colab_type": "code",
        "colab": {}
      },
      "source": [
        "'''\n",
        "image_input = Input(shape = (224,224,3))\n",
        "model = MobileNet(input_tensor = image_input, weights = 'imagenet')\n",
        "print(model.summary())\n",
        "last_layer = model.get_layer('fc2').output\n",
        "x = Dense(220,activation='relu')(last_layer)\n",
        "x = Dense(220,activation='relu')(x)\n",
        "out = Dense(4, activation='softmax')(x)\n",
        "classifier = Model(image_input,out)\n",
        "print(classifier.summary())\n",
        "for Layer in classifier.layers[:-3]:\n",
        "    Layer.trainable = False\n",
        "es = keras.callbacks.EarlyStopping(monitor='val_loss', min_delta=0, patience=3, verbose=0, mode='auto', baseline=None, restore_best_weights=False)\n",
        "classifier.compile(optimizer = 'adamax', loss='categorical_crossentropy', metrics=[f1_m])    \n",
        "classifier.fit(X, Y, batch_size=32, epochs=10, validation_split=.1,callbacks=[es])\n",
        "'''"
      ],
      "execution_count": 0,
      "outputs": []
    },
    {
      "cell_type": "code",
      "metadata": {
        "id": "Vkv53PmA4nA2",
        "colab_type": "code",
        "colab": {}
      },
      "source": [
        "images_test = test['Image'].tolist()\n",
        "test_features=[]\n",
        "path_test = 'dataset/Test Images/'\n",
        "for i in range(0,3219):\n",
        "  if os.path.isfile(path_test+str(images_test[i])):\n",
        "    pic = image.load_img(path_test+str(images_test[i]), target_size=(224, 224))\n",
        "    #print(path+str(images[i]))\n",
        "    x = image.img_to_array(pic)\n",
        "    x = np.expand_dims(x, axis=0)\n",
        "    x = preprocess_input(x)\n",
        "    test_features.append(x)\n",
        "  else:\n",
        "    print(path_test+str(images[i]), 'not present')"
      ],
      "execution_count": 0,
      "outputs": []
    },
    {
      "cell_type": "code",
      "metadata": {
        "id": "LOgEgzC44nA5",
        "colab_type": "code",
        "colab": {}
      },
      "source": [
        "test_features = np.array(test_features)\n",
        "print(test_features.shape)\n",
        "test_features = np.rollaxis(test_features, 1, 0)\n",
        "print(test_features.shape)\n",
        "X_test = test_features[0]\n",
        "print(X_test.shape)"
      ],
      "execution_count": 0,
      "outputs": []
    },
    {
      "cell_type": "code",
      "metadata": {
        "id": "9hjI2IkL4nBA",
        "colab_type": "code",
        "colab": {}
      },
      "source": [
        "preds = model.predict(X_test)"
      ],
      "execution_count": 0,
      "outputs": []
    },
    {
      "cell_type": "code",
      "metadata": {
        "id": "F34Bt8kv4nBD",
        "colab_type": "code",
        "colab": {}
      },
      "source": [
        "predictions=[]\n",
        "for i in preds:\n",
        "    predictions.append(np.argmax(i))"
      ],
      "execution_count": 0,
      "outputs": []
    },
    {
      "cell_type": "code",
      "metadata": {
        "id": "tJ8BCkiQ4nBI",
        "colab_type": "code",
        "colab": {}
      },
      "source": [
        "test['Class'] = predictions"
      ],
      "execution_count": 0,
      "outputs": []
    },
    {
      "cell_type": "code",
      "metadata": {
        "id": "RfVMPJGf4nBK",
        "colab_type": "code",
        "colab": {}
      },
      "source": [
        "gt_dict = dict((v,k) for k,v in tg_dict.items())\n",
        "\n",
        "def inverse_encode(x):\n",
        "    return gt_dict[x]\n",
        "\n",
        "test['Class'] = test['Class'].apply(inverse_encode)"
      ],
      "execution_count": 0,
      "outputs": []
    },
    {
      "cell_type": "code",
      "metadata": {
        "id": "-zM34qyF4nBP",
        "colab_type": "code",
        "colab": {}
      },
      "source": [
        "test.head(4)"
      ],
      "execution_count": 0,
      "outputs": []
    },
    {
      "cell_type": "code",
      "metadata": {
        "id": "dm08IumE4nBT",
        "colab_type": "code",
        "colab": {}
      },
      "source": [
        "test.to_csv('Submission.csv',header=True,index = None)"
      ],
      "execution_count": 0,
      "outputs": []
    }
  ]
}